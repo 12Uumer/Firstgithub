{
 "cells": [
  {
   "cell_type": "markdown",
   "metadata": {},
   "source": [
    "# Python ka chilla with baba Aammar\n",
    "## How to use jupyter note book\n",
    "### Basics of python\n",
    "### 01. My first progrem"
   ]
  },
  {
   "cell_type": "code",
   "execution_count": 1,
   "metadata": {},
   "outputs": [
    {
     "name": "stdout",
     "output_type": "stream",
     "text": [
      "5\n",
      "Hello World\n",
      "We are learning python with ammar\n"
     ]
    }
   ],
   "source": [
    "print(2+3)\n",
    "print(\"Hello World\")\n",
    "print(\"We are learning python with ammar\")"
   ]
  },
  {
   "cell_type": "markdown",
   "metadata": {},
   "source": [
    "### 02. Operators"
   ]
  },
  {
   "cell_type": "code",
   "execution_count": 2,
   "metadata": {},
   "outputs": [
    {
     "name": "stdout",
     "output_type": "stream",
     "text": [
      "5\n",
      "2\n",
      "3.0\n",
      "6\n",
      "1\n",
      "3\n",
      "8\n",
      "8.0\n"
     ]
    }
   ],
   "source": [
    "print(2+3)\n",
    "print(3-1)\n",
    "print(6/2)\n",
    "print(2*3)\n",
    "print(13%2)\n",
    "print(6//2)\n",
    "print(2**3)  \n",
    "\n",
    "print((2**3)/2*3/3+6-2)"
   ]
  },
  {
   "cell_type": "markdown",
   "metadata": {},
   "source": [
    "*PEMDAS\n",
    "paranthesis exponents multiplication division addition subtraction\n",
    "left to right sequence for M D &A S*"
   ]
  },
  {
   "cell_type": "markdown",
   "metadata": {},
   "source": [
    "### 03.Strings"
   ]
  },
  {
   "cell_type": "code",
   "execution_count": 3,
   "metadata": {},
   "outputs": [
    {
     "name": "stdout",
     "output_type": "stream",
     "text": [
      "Hello World\n",
      "We are learning python with ammar\n",
      "Test for single quote\n",
      "test for double quote\n",
      "test for triple quote\n",
      "what's up?\n"
     ]
    }
   ],
   "source": [
    "print(\"Hello World\")\n",
    "print(\"We are learning python with ammar\")\n",
    "print('Test for single quote')\n",
    "print(\"test for double quote\")\n",
    "print('''test for triple quote''')\n",
    "print(\"what's up?\")"
   ]
  },
  {
   "cell_type": "markdown",
   "metadata": {},
   "source": [
    "### 04_Comments in Python\n",
    "\n",
    "The shortcut key to comments out is **ctrl+/**"
   ]
  },
  {
   "cell_type": "code",
   "execution_count": 4,
   "metadata": {},
   "outputs": [
    {
     "name": "stdout",
     "output_type": "stream",
     "text": [
      "how are you\n",
      "we are learning python with ammar\n",
      "2+3\n",
      "5\n"
     ]
    }
   ],
   "source": [
    "print(\"how are you\")      #press these to comment out (ctrl+/)\n",
    "print(\"we are learning python with ammar\")  #print a string\n",
    "print(\"2+3\")\n",
    "print(2+3)      #print operator function with number"
   ]
  },
  {
   "cell_type": "markdown",
   "metadata": {},
   "source": [
    "### 05_Variables"
   ]
  },
  {
   "cell_type": "code",
   "execution_count": 5,
   "metadata": {},
   "outputs": [
    {
     "name": "stdout",
     "output_type": "stream",
     "text": [
      "5\n",
      "we are learning python with usama\n",
      "15\n",
      "<class 'int'>\n",
      "<class 'str'>\n",
      "<class 'str'>\n",
      "mangoes\n"
     ]
    }
   ],
   "source": [
    " #variable: obects that containing specific values\n",
    "x=5 #numeric or integer variable\n",
    "print(x)\n",
    "y=\"we are learning python with usama\" #string variable\n",
    "print(y)\n",
    "x=x+10 #or x=15\n",
    "print(x)\n",
    "# types/class of variable\n",
    "type(x)\n",
    "print(type(x))\n",
    "print(type(y))\n",
    "# print_type_class\n",
    "# Rules to assign a variable\n",
    "#1_ The variable should contain letters, numbers or underscore\n",
    "#2_ Do not start with number (eg. 2y)\n",
    "#3_ Spaces are not allowed\n",
    "#4_ Do not use keywords used in function (break, mean, media test etc)\n",
    "#5_ Short and descriptive\n",
    "#6_ Case senstivity (Lowercase, uppercase, Lowercase letter should be used) \n",
    "fruit_basket=8\n",
    "fruit_basket='mangoes'\n",
    "print(type(fruit_basket))\n",
    "print(fruit_basket)\n"
   ]
  },
  {
   "cell_type": "markdown",
   "metadata": {},
   "source": [
    "### 06_input_variable"
   ]
  },
  {
   "cell_type": "code",
   "execution_count": 6,
   "metadata": {},
   "outputs": [
    {
     "name": "stdout",
     "output_type": "stream",
     "text": [
      "mangoes\n",
      "which is your favourite fruit? orange\n",
      "orange\n",
      "what is your name? usama\n",
      "Hello! usama\n",
      "what is your name? usama\n",
      "Hello!  usama\n",
      "what is your name? azhar\n",
      "how old are you? 18\n",
      "Hello!  azhar , you are still young\n"
     ]
    }
   ],
   "source": [
    " fruit_basket=\"mangoes\"\n",
    " print(fruit_basket)\n",
    "#input function simple \n",
    " fruit_basket=input(\"which is your favourite fruit? \")\n",
    " print(fruit_basket)\n",
    "#input function of 2nd stage\n",
    " fruit_basket=input(\"what is your name? \")\n",
    " greeting=('Hello!')\n",
    " print(greeting,fruit_basket)\n",
    "#another way of 2nd stage of input function\n",
    " fruit_basket=input(\"what is your name? \")\n",
    " print(\"Hello! \",fruit_basket)\n",
    "# 3rd stage of input function\n",
    "name=input(\"what is your name? \")\n",
    "age=input(\"how old are you? \")\n",
    "greetig=\"Hello! \"\n",
    "print(greetig, name, \", you are still young\")\n",
    "\n",
    "#input_Aammar_you are still young"
   ]
  },
  {
   "cell_type": "markdown",
   "metadata": {},
   "source": [
    "### 07_Conditional_logic"
   ]
  },
  {
   "cell_type": "markdown",
   "metadata": {},
   "source": [
    " Logical operators are either \"true or false\" or \"yes or no\" or \"0 or 1\"\n",
    "\n",
    " equal to                      ==\n",
    " \n",
    " not equal to                  !=\n",
    " \n",
    " less than                     <\n",
    " \n",
    " greater than                  >\n",
    " \n",
    " less than or equal to         <=\n",
    " \n",
    " greater than or equal to      >= "
   ]
  },
  {
   "cell_type": "code",
   "execution_count": 7,
   "metadata": {},
   "outputs": [
    {
     "name": "stdout",
     "output_type": "stream",
     "text": [
      "True\n",
      "False\n",
      "True\n",
      "False\n",
      "True\n",
      "False\n",
      "False\n",
      "How old is hammad? 5\n",
      "True\n"
     ]
    }
   ],
   "source": [
    "print(4==4)\n",
    "print(4!=4)\n",
    "print(4>3)\n",
    "print(3>5)\n",
    "print(5>=1)\n",
    "print(5<=3)\n",
    "\n",
    "# Application of logical operator\n",
    "hammad_age=4\n",
    "age_at_school=5\n",
    "print(hammad_age==age_at_school)\n",
    "\n",
    "# Input function and logical operator\n",
    "age_at_school=5\n",
    "hammad_age=input(\"How old is hammad? \")        #input function\n",
    "hammad_age=int(hammad_age)\n",
    "print(hammad_age==age_at_school)          #logical operator"
   ]
  },
  {
   "cell_type": "markdown",
   "metadata": {},
   "source": [
    "### 08_Type_conversion"
   ]
  },
  {
   "cell_type": "code",
   "execution_count": 8,
   "metadata": {},
   "outputs": [
    {
     "name": "stdout",
     "output_type": "stream",
     "text": [
      "what is your name? usama\n",
      "usama <class 'str'>\n"
     ]
    }
   ],
   "source": [
    "# x=10            #integer\n",
    "# y=10.5          #float\n",
    "# z=\"Hello\"       #string\n",
    "#print(type(x))\n",
    "#implicit type conversion\n",
    "# x=x+y\n",
    "# print(x,\"Type of x is \" ,type(x))\n",
    "# Explicit type conversion\n",
    "# age=input(\"what is your age? \")\n",
    "# #age=int(age)\n",
    "# print(age, type(float(age))) \n",
    "\n",
    "name=input(\"what is your name? \")\n",
    "print(name, type(str(name)))\n",
    "\n",
    "# type_conversion\n"
   ]
  },
  {
   "cell_type": "markdown",
   "metadata": {},
   "source": [
    "### 09_If_else_elif"
   ]
  },
  {
   "cell_type": "code",
   "execution_count": 9,
   "metadata": {},
   "outputs": [
    {
     "name": "stdout",
     "output_type": "stream",
     "text": [
      "hammad can not join the school\n"
     ]
    }
   ],
   "source": [
    "requried_age_at_school=4\n",
    "hammad_age=3\n",
    "# Question: Can hammad go to school\n",
    "if hammad_age==requried_age_at_school:\n",
    "    print(\" Congratulations! hammad can join the school.\")\n",
    "elif hammad_age>=requried_age_at_school:\n",
    "    print(\" Hammad should join the higher secondary school.\")\n",
    "elif hammad_age<=2:\n",
    "    print(\" you should take care of hammad becauese hammad is still baby.\")\n",
    "else:\n",
    "    print(\"hammad can not join the school\") \n",
    "\n",
    " # if, else, elif statement clear. "
   ]
  },
  {
   "cell_type": "markdown",
   "metadata": {},
   "source": [
    "### 10_Function"
   ]
  },
  {
   "cell_type": "code",
   "execution_count": 10,
   "metadata": {},
   "outputs": [
    {
     "name": "stdout",
     "output_type": "stream",
     "text": [
      "34\n"
     ]
    }
   ],
   "source": [
    "\n",
    "# Defineing a Functions\n",
    "#1.\n",
    "# def print_codanic():\n",
    "#     print(\"we are learning\")\n",
    "#     print(\"we are learning\")\n",
    "#     print(\"we are learning\")\n",
    "\n",
    "# print_codanic() \n",
    "\n",
    "#2\n",
    "# def print_codanic():\n",
    "#     text=(\"we are learning python\")\n",
    "#     print(text)\n",
    "#     print(text)\n",
    "#     print(text)\n",
    "\n",
    "# print_codanic()  \n",
    "\n",
    "#3\n",
    "# def print_codanic(text):\n",
    "#       print(text)\n",
    "#       print(text)\n",
    "#       print(text)\n",
    "\n",
    "# print_codanic(\"we are learning python with Aammar\")\n",
    "\n",
    "#4 defining a fuction by using if elif and else\n",
    "# def school_calculater(age,text):\n",
    "#     if age==5:\n",
    "#         print(\"hammad can join the school\")\n",
    "#     elif age>5:\n",
    "#         print(\"hammad go to higher school\")\n",
    "#     else:\n",
    "#         print(\"hammad is still baby\")\n",
    "\n",
    "# school_calculater(15,\"hammad\")                \n",
    "# Future age calculater\n",
    "def future_age(age):\n",
    "    new_age=age+20\n",
    "    return new_age\n",
    "\n",
    "future_predicter_age=future_age(14)\n",
    "print(future_predicter_age)\n",
    "\n",
    "# I understand function really well\n"
   ]
  },
  {
   "cell_type": "markdown",
   "metadata": {},
   "source": [
    "### 11_Loops"
   ]
  },
  {
   "cell_type": "code",
   "execution_count": 11,
   "metadata": {},
   "outputs": [
    {
     "name": "stdout",
     "output_type": "stream",
     "text": [
      "mon\n",
      "tue\n",
      "wed\n",
      "tha\n",
      "stur\n",
      "sun\n"
     ]
    }
   ],
   "source": [
    "# While and for loop\n",
    "\n",
    "# x=0\n",
    "# while(x<6):\n",
    "#     print(x)\n",
    "#     x=x+1\n",
    "\n",
    "# for x in range(4,11):\n",
    "#     print(x)\n",
    "\n",
    "#array\n",
    "days =[\"mon\",'tue',\"wed\",\"tha\",\"fri\",\"stur\",\"sun\"]\n",
    "for d in days:\n",
    "   # if (d==\"fri\"):break            #break loop\n",
    "    if (d==\"fri\"):continue          #skips d  \n",
    "    print(d)"
   ]
  },
  {
   "cell_type": "markdown",
   "metadata": {},
   "source": [
    "### 12_Import_laborary"
   ]
  },
  {
   "cell_type": "code",
   "execution_count": 12,
   "metadata": {},
   "outputs": [
    {
     "name": "stdout",
     "output_type": "stream",
     "text": [
      "the value of pi is 3.141592653589793\n",
      "250\n"
     ]
    }
   ],
   "source": [
    "# If you want to print the value of pi\n",
    "\n",
    "import math\n",
    "print(\"the value of pi is\", math.pi)\n",
    "\n",
    "import statistics\n",
    "x=[100,150,250,350,400]\n",
    "print(statistics.mean(x))\n",
    "\n",
    "# numpy, pandas"
   ]
  },
  {
   "cell_type": "markdown",
   "metadata": {},
   "source": [
    "### 13_Trouble_shooting"
   ]
  },
  {
   "cell_type": "code",
   "execution_count": 13,
   "metadata": {},
   "outputs": [
    {
     "name": "stdout",
     "output_type": "stream",
     "text": [
      "hello name\n",
      "hello Usama\n",
      "helloUsama\n"
     ]
    }
   ],
   "source": [
    "#print(we are learning python with aammar)              #syntaxError\n",
    "#print(25/0)                                            #rantime Error\n",
    "\n",
    "name=(\"Usama\")\n",
    "print(\"hello name\")\n",
    "print(\"hello\", name)\n",
    "print(\"hello\"+   name)\n",
    "\n",
    "#trouble shooting is easy"
   ]
  },
  {
   "cell_type": "code",
   "execution_count": null,
   "metadata": {},
   "outputs": [],
   "source": []
  }
 ],
 "metadata": {
  "kernelspec": {
   "display_name": "Python 3",
   "language": "python",
   "name": "python3"
  },
  "language_info": {
   "codemirror_mode": {
    "name": "ipython",
    "version": 3
   },
   "file_extension": ".py",
   "mimetype": "text/x-python",
   "name": "python",
   "nbconvert_exporter": "python",
   "pygments_lexer": "ipython3",
   "version": "3.8.3"
  }
 },
 "nbformat": 4,
 "nbformat_minor": 4
}
